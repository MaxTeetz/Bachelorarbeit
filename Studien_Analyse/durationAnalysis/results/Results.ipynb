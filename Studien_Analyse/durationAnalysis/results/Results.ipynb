{
 "cells": [
  {
   "metadata": {},
   "cell_type": "markdown",
   "source": "# Interpretation of results by duration",
   "id": "16d5b7ed80af515"
  },
  {
   "metadata": {},
   "cell_type": "markdown",
   "source": [
    "First analyzed was the difference between the scenarios compared by the user average of total time and time until reached. Since there's no difference in total time the next step was to check if there's\n",
    "one before and after the target is reached."
   ],
   "id": "e3d3806e309e65d2"
  },
  {
   "metadata": {},
   "cell_type": "markdown",
   "source": "# Analizing differences after target is reached",
   "id": "391767d24a3d009f"
  },
  {
   "metadata": {},
   "cell_type": "markdown",
   "source": [
    "Repeated Measures ANOVA Results for Duration:\n",
    "\n",
    "\n",
    "| Source       |          SS | DF  |          MS |        F  |   p-unc   | p-GG-corr  |      ng2    |      eps   | sphericity | W-spher  | p-spher   |\n",
    "|--------------|-------------|-----|-------------|-----------|-----------|------------|-------------|------------|------------|----------|-----------|\n",
    "| ScenarioCase | 3.70774e+08 | 2   | 1.85387e+08 | 1.97315   | 0.162862  | 0.18075    | 0.0823557   | 0.662873   | 0          | 0.491416 | 0.0286582 |\n",
    "| Error        | 2.06701e+09 | 22  | 9.39548e+07 | nan       | nan       | nan        | nan         | nan        | nan        | nan      | nan       |\n",
    "\n",
    "Repeated Measures ANOVA Results for DurationPrecision:\n",
    "\n",
    "| Source       |          SS |   DF |          MS |         F |       p-unc |   p-GG-corr |        ng2 |        eps |   sphericity |   W-spher |      p-spher |\n",
    "|--------------|-------------|------|-------------|-----------|-------------|-------------|------------|------------|--------------|-----------|--------------|\n",
    "| ScenarioCase | 3.5057e+08  |    2 | 1.75285e+08 |   3.57025 |   0.0454134 |   0.0777174 |   0.100578 |   0.576213 |            0 |   0.26453 |   0.00129532 |\n",
    "| Error        | 1.08011e+09 |   22 | 4.90961e+07 | nan       | nan         | nan         | nan        | nan        |          nan | nan       | nan          |\n",
    "\n",
    "\n",
    "Since there's no difference in the time itself, the performance got analyzed next. For this a value was calculated for each test case and later the average was taken as for the values before. The formula is as followed:\n",
    "\n",
    "$$\n",
    "\\text{Effectiveness} = \\frac{D_{\\text{opt}} - \\text{DistanceFinished}}{\\text{ObjectDistance}}\n",
    "$$\n",
    "\n",
    "Repeated Measures ANOVA Results for Performance:\n",
    "\n",
    "| Source       |    SS      | DF  |     MS    |     F     |  p-unc   |    ng2     |    eps    |\n",
    "|--------------|------------|-----|-----------|-----------|----------|------------|-----------|\n",
    "| ScenarioCase | 0.00609918 |  2  | 0.00304959| 0.591871  | 0.561863 | 0.0283441  | 0.843756  |\n",
    "| Error        | 0.113354   | 22  | 0.00515246| nan       | nan      | nan        | nan       |\n",
    "\n",
    "\n",
    "The following analysis showed that there's also no significant difference in between the scenarios compared by the average performance of the tests, suggesting that the variants are equally good at performing tasks and getting close to a target.\n",
    "\n"
   ],
   "id": "6e337b3e13c834e5"
  },
  {
   "metadata": {},
   "cell_type": "markdown",
   "source": "# Analizing differences before a target is reached",
   "id": "e80cbb9dcdc91b77"
  },
  {
   "metadata": {},
   "cell_type": "markdown",
   "source": [
    "Pairwise Comparison Table of scenario by duration reached average:\n",
    "\n",
    "| Contrast     | A          | B             | Paired | Parametric |         T | dof | alternative |     p-unc |    p-corr | p-adjust |   BF10 |    hedges |\n",
    "|--------------|------------|---------------|--------|------------|-----------|-----|-------------|-----------|-----------|----------|--------|-----------|\n",
    "| ScenarioCase | FOLDAR     | FOLDAROPEN    | True   | True       | -0.387694 | 11  | two-sided   | 0.705639  | 0.705639  | holm     | 0.307  | -0.173497 |\n",
    "| ScenarioCase | FOLDAR     | STATEOFTHEART | True   | True       | -2.88857  | 11  | two-sided   | 0.0147434 | 0.0442302 | holm     | 4.326  | -0.966021 |\n",
    "| ScenarioCase | FOLDAROPEN | STATEOFTHEART | True   | True       | -2.86717  | 11  | two-sided   | 0.0153189 | 0.0442302 | holm     | 4.195  | -0.883173 |\n",
    "\n",
    "When comparing how fast a target can be reached, there's no significant difference between FOLDAR and FOLDAROPEN but both show a difference to STATEOFTHEART, meaning that the variants with a map are faster in reaching a target in general. The same was tested with the position as a deciding group and the results were similar by a lot.\n",
    "\n",
    "| ScenarioCase   | Mean         |\n",
    "| -------------- | ------------ |\n",
    "| FOLDAR         | 15966.141667 |\n",
    "| FOLDAROPEN     | 16696.745833 |\n",
    "| STATEOFTHEART  | 21531.912500 |\n"
   ],
   "id": "38dd506648e1feb4"
  },
  {
   "metadata": {},
   "cell_type": "markdown",
   "source": "# Analyzing efficiency compared to clicks",
   "id": "7434b3d25ab3383d"
  },
  {
   "metadata": {},
   "cell_type": "markdown",
   "source": [
    "When adding clicks as a factor, it shows a distinct difference between the scenarios with FOLDAR coming out on top.\n",
    "\n",
    "| ScenarioCase   | DurationReachedAvg | ClicksRough | ParetoRank |\n",
    "| -------------- | ------------------ | ----------- | ---------- |\n",
    "| FOLDAR         | 15.966142          | 237.108333  | 0          |\n",
    "| FOLDAROPEN     | 16.696746          | 258.395833  | 1          |\n",
    "| STATEOFTHEART  | 21.531912          | 365.045833  | 2          |\n"
   ],
   "id": "47ae07b7f335004b"
  },
  {
   "metadata": {},
   "cell_type": "markdown",
   "source": "also analyzed was the duration in correlation to the position, where the test order was similar but showed different and clear results that FOLDAR was superior",
   "id": "c4ca72d697e1dc2a"
  },
  {
   "metadata": {},
   "cell_type": "markdown",
   "source": "# Analyzing by position",
   "id": "ae5fb7a396b405be"
  },
  {
   "metadata": {},
   "cell_type": "markdown",
   "source": [
    "The general duration was analyzed first again, showing strong signs in favor of FoldAR\n",
    "\n",
    "Average Duration in Milliseconds:\n",
    "\n",
    "| ScenarioCase   | Duration  |\n",
    "| -------------- | --------- |\n",
    "| FOLDAR         | 23964.15  |\n",
    "| FOLDAROPEN     | 31444.30  |\n",
    "| STATEOFTHEART  | 29797.60  |\n",
    "\n",
    "\n",
    "\n",
    "Pairwise Comparisons Table for Duration:\n",
    "\n",
    "| Contrast     | A          | B             | Paired | Parametric |     T    | dof | alternative |      p-unc |      p-corr | p-adjust |  BF10  |   hedges  |\n",
    "|--------------|------------|---------------|--------|------------|----------|-----|-------------|------------|-------------|----------|--------|-----------|\n",
    "| ScenarioCase | FOLDAR     | FOLDAROPEN    | True   | True       | -7.16508 | 19  | two-sided   | 8.27343e-07| 2.48203e-06 | holm     | 21310  | -1.55022  |\n",
    "| ScenarioCase | FOLDAR     | STATEOFTHEART | True   | True       | -7.09614 | 19  | two-sided   | 9.47902e-07| 2.48203e-06 | holm     | 18820  | -1.13497  |\n",
    "| ScenarioCase | FOLDAROPEN | STATEOFTHEART | True   | True       |  1.54178 | 19  | two-sided   | 0.139617   | 0.139617    | holm     | 0.641  |  0.290556 |\n",
    "\n",
    "\n",
    "\n",
    "Pairwise Comparisons Table for DurationPrecision\n",
    "\n",
    "| Contrast     | A          | B             | Paired | Parametric | T         | dof | alternative | p-unc       | p-corr      | p-adjust | BF10   | hedges    |\n",
    "|--------------|------------|---------------|--------|------------|-----------|-----|-------------|-------------|-------------|----------|--------|-----------|\n",
    "| ScenarioCase | FOLDAR     | FOLDAROPEN    | True   | True       | -9.00681 | 19  | two-sided  | 2.76006e-08 | 8.28017e-08 | holm     | 488900 | -2.10034 |\n",
    "| ScenarioCase | FOLDAR     | STATEOFTHEART | True   | True       | -0.569766| 19  | two-sided  | 0.575512    | 0.575512    | holm     | 0.269  | -0.132564|\n",
    "| ScenarioCase | FOLDAROPEN | STATEOFTHEART | True   | True       | 8.16726  | 19  | two-sided  | 1.23083e-07 | 2.46165e-07 | holm     | 122800 | 1.99902  |\n",
    "\n",
    "\n",
    "\n",
    "Pairwise Comparisons Table for DurationReached:\n",
    "\n",
    "| Contrast     | A          | B             | Paired | Parametric |      T    | dof | alternative |      p-unc |      p-corr | p-adjust |    BF10 |   hedges  |\n",
    "|--------------|------------|---------------|--------|------------|-----------|-----|-------------|------------|-------------|----------|---------|-----------|\n",
    "| ScenarioCase | FOLDAR     | FOLDAROPEN    | True   | True       | -1.01781  | 19  | two-sided   | 0.321556   | 0.321556    | holm     | 0.367   | -0.192332 |\n",
    "| ScenarioCase | FOLDAR     | STATEOFTHEART | True   | True       | -6.18856  | 19  | two-sided   | 6.03094e-06| 1.80928e-05 | holm     | 3483.16 | -1.21501  |\n",
    "| ScenarioCase | FOLDAROPEN | STATEOFTHEART | True   | True       | -4.78875  | 19  | two-sided   | 0.000127656| 0.000255312 | holm     | 223.894 | -1.02692  |\n",
    "\n",
    "Since there's a difference of FOLDAR to the other variants in general duration, the duration before and after reaching the target was analyzed as well. There's a difference between FoldAR and StateOfTheArt in every analysis, making analyzing the differences between FoldAR and FoldAROpen the relevant next part."
   ],
   "id": "2fad333d097cea7a"
  },
  {
   "metadata": {},
   "cell_type": "markdown",
   "source": [
    "Since there's a really high difference in between the two variants in general, which is not coming from the time until the target is reached, it means its based on the time after the target is reached and precision is of use.\n",
    "\n",
    "| ScenarioCase   | DurationPrecision |\n",
    "| -------------- | ----------------- |\n",
    "| FOLDAR         | 7998.008333       |\n",
    "| FOLDAROPEN     | 14747.554167      |\n",
    "| STATEOFTHEART  | 8265.687500       |\n",
    "\n",
    "\n",
    "\n",
    "Repeated Measures ANOVA Results for Performance\n",
    "\n",
    "| Source       |        SS | DF |         MS |         F |    p-unc  |    ng2    |    eps    |\n",
    "|--------------|-----------|----|------------|-----------|-----------|-----------|-----------|\n",
    "| ScenarioCase | 0.0123842 | 2  | 0.00619212 | 0.964491  | 0.390312  | 0.0288635 | 0.916083  |\n",
    "| Error        | 0.243963  | 38 | 0.00642009 | nan       | nan       | nan       | nan       |\n",
    "\n",
    "When testing the performance as well, it shows that there's no significant differences coming from it. Thus making the relevant factor the time itself.\n",
    "\n",
    "| ScenarioCase   | DistanceFinished |\n",
    "| -------------- | ---------------- |\n",
    "| FOLDAR         | 0.050464         |\n",
    "| FOLDAROPEN     | 0.039006         |\n",
    "| STATEOFTHEART  | 0.037613         |\n",
    "\n",
    "\n",
    "Pairwise Comparisons Table of DistanceFinished\n",
    "\n",
    "| Contrast     | A          | B             | Paired | Parametric |      T   | dof | alternative |     p-unc |    p-corr | p-adjust |  BF10  |  hedges  |\n",
    "|--------------|------------|---------------|--------|------------|----------|-----|-------------|-----------|-----------|----------|--------|----------|\n",
    "| ScenarioCase | FOLDAR     | FOLDAROPEN    | True   | True       | 2.80488  | 19  | two-sided   | 0.0113029 | 0.0226058 | holm     | 4.627  | 0.92796  |\n",
    "| ScenarioCase | FOLDAR     | STATEOFTHEART | True   | True       | 3.20365  | 19  | two-sided   | 0.00467575| 0.0140273 | holm     | 9.709  | 0.97742  |\n",
    "| ScenarioCase | FOLDAROPEN | STATEOFTHEART | True   | True       | 0.564542 | 19  | two-sided   | 0.57899   | 0.57899   | holm     | 0.268  | 0.127892 |\n",
    "\n",
    "\n",
    "When further comparisons are made, one can see that FoldAR and FoldAROpen are the same until they reach the target, from here the two models diverge and from this time on the analysis is in favor of FoldAR. (Since FoldAROpen is taking longer, that means it has to be more precise to some degree for it to have no influence on the performance, making FoldAR the better overall variant and FoldAROpen more suited for precise tasks.)"
   ],
   "id": "6ddf4d24206c8d19"
  }
 ],
 "metadata": {
  "kernelspec": {
   "display_name": "Python 3",
   "language": "python",
   "name": "python3"
  },
  "language_info": {
   "codemirror_mode": {
    "name": "ipython",
    "version": 2
   },
   "file_extension": ".py",
   "mimetype": "text/x-python",
   "name": "python",
   "nbconvert_exporter": "python",
   "pygments_lexer": "ipython2",
   "version": "2.7.6"
  }
 },
 "nbformat": 4,
 "nbformat_minor": 5
}
